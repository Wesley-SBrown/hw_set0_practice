{
 "cells": [
  {
   "cell_type": "markdown",
   "metadata": {},
   "source": [
    "Python version of the AMPL code"
   ]
  },
  {
   "cell_type": "code",
   "execution_count": 2,
   "metadata": {},
   "outputs": [],
   "source": [
    "import cvxpy as cp"
   ]
  },
  {
   "cell_type": "code",
   "execution_count": 3,
   "metadata": {},
   "outputs": [],
   "source": [
    "# Define Variables\n",
    "XB = cp.Variable(nonneg=True)\n",
    "XC = cp.Variable(nonneg=True)\n",
    "\n",
    "# Define Objective Function\n",
    "profit = 25 * XB + 30 * XC"
   ]
  },
  {
   "cell_type": "code",
   "execution_count": 4,
   "metadata": {},
   "outputs": [],
   "source": [
    "# Define Constraints\n",
    "constraints = [\n",
    "    (1/200) * XB + (1/140) * XC <= 40,  # Time\n",
    "    XB <= 6000, # XB Upper Limit    \n",
    "    XC <= 4000  # XC Upper Limit\n",
    "]"
   ]
  },
  {
   "cell_type": "code",
   "execution_count": 5,
   "metadata": {},
   "outputs": [],
   "source": [
    "# Define Optimization Problem\n",
    "problem = cp.Problem(cp.Maximize(profit), constraints)"
   ]
  },
  {
   "cell_type": "code",
   "execution_count": 8,
   "metadata": {},
   "outputs": [
    {
     "name": "stdout",
     "output_type": "stream",
     "text": [
      "Optimal solution found:\n",
      "XB = 6000\n",
      "XC = 1400\n",
      "Maximum Profit = 192000\n"
     ]
    }
   ],
   "source": [
    "# Solve\n",
    "problem.solve()\n",
    "\n",
    "print(\"Optimal solution found:\")\n",
    "print(f\"XB = {round(XB.value)}\")\n",
    "print(f\"XC = {round(XC.value)}\")\n",
    "print(f\"Maximum Profit = {round(problem.value)}\")"
   ]
  }
 ],
 "metadata": {
  "kernelspec": {
   "display_name": "venv",
   "language": "python",
   "name": "python3"
  },
  "language_info": {
   "codemirror_mode": {
    "name": "ipython",
    "version": 3
   },
   "file_extension": ".py",
   "mimetype": "text/x-python",
   "name": "python",
   "nbconvert_exporter": "python",
   "pygments_lexer": "ipython3",
   "version": "3.13.1"
  }
 },
 "nbformat": 4,
 "nbformat_minor": 2
}
